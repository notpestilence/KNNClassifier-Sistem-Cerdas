{
 "metadata": {
  "language_info": {
   "codemirror_mode": {
    "name": "ipython",
    "version": 3
   },
   "file_extension": ".py",
   "mimetype": "text/x-python",
   "name": "python",
   "nbconvert_exporter": "python",
   "pygments_lexer": "ipython3",
   "version": "3.8.3"
  },
  "orig_nbformat": 2,
  "kernelspec": {
   "name": "python383jvsc74a57bd0613fe122287fdb1a4092b1ec324ab5e18de9ec977608057b646301948d1df577",
   "display_name": "Python 3.8.3 64-bit ('base': conda)"
  }
 },
 "nbformat": 4,
 "nbformat_minor": 2,
 "cells": [
  {
   "cell_type": "code",
   "execution_count": 1,
   "metadata": {},
   "outputs": [],
   "source": [
    "import os, sys\n",
    "\n",
    "import pandas as pd\n",
    "import numpy as np\n",
    "import tensorflow as tf\n",
    "\n",
    "pd.set_option('display.max_rows', 200)"
   ]
  },
  {
   "source": [
    "df = pd.read_csv(\"Train.csv\")\n",
    "df_test = pd.read_csv(\"Test.csv\")\n",
    "\n",
    "df.sample(n=10, random_state=1) # random_state provides reproducibility :)"
   ],
   "cell_type": "code",
   "metadata": {},
   "execution_count": 2,
   "outputs": [
    {
     "output_type": "execute_result",
     "data": {
      "text/plain": [
       "          ID  Gender Ever_Married  Age Graduated     Profession  \\\n",
       "6087  464509    Male          Yes   53       Yes         Artist   \n",
       "6723  467663    Male          Yes   31        No         Doctor   \n",
       "130   465215    Male          Yes   39       Yes      Executive   \n",
       "3792  464782    Male          Yes   35        No      Marketing   \n",
       "4444  465124  Female          Yes   29       Yes     Healthcare   \n",
       "5685  466623    Male          Yes   56       NaN  Entertainment   \n",
       "103   463426    Male          Yes   38        No      Executive   \n",
       "3988  460413  Female           No   39       Yes         Artist   \n",
       "2567  463439    Male          Yes   42       Yes         Artist   \n",
       "3593  460147    Male          Yes   67       Yes  Entertainment   \n",
       "\n",
       "      Work_Experience Spending_Score  Family_Size  Var_1 Segmentation  \n",
       "6087              0.0           High          4.0  Cat_6            C  \n",
       "6723              NaN        Average          2.0  Cat_6            D  \n",
       "130               9.0           High          5.0  Cat_2            A  \n",
       "3792              0.0            Low          3.0  Cat_4            D  \n",
       "4444              6.0        Average          2.0  Cat_6            A  \n",
       "5685              4.0        Average          4.0  Cat_3            C  \n",
       "103               0.0           High          5.0  Cat_6            A  \n",
       "3988              7.0            Low          1.0  Cat_6            B  \n",
       "2567              9.0        Average          3.0  Cat_6            B  \n",
       "3593              1.0        Average          3.0  Cat_6            C  "
      ],
      "text/html": "<div>\n<style scoped>\n    .dataframe tbody tr th:only-of-type {\n        vertical-align: middle;\n    }\n\n    .dataframe tbody tr th {\n        vertical-align: top;\n    }\n\n    .dataframe thead th {\n        text-align: right;\n    }\n</style>\n<table border=\"1\" class=\"dataframe\">\n  <thead>\n    <tr style=\"text-align: right;\">\n      <th></th>\n      <th>ID</th>\n      <th>Gender</th>\n      <th>Ever_Married</th>\n      <th>Age</th>\n      <th>Graduated</th>\n      <th>Profession</th>\n      <th>Work_Experience</th>\n      <th>Spending_Score</th>\n      <th>Family_Size</th>\n      <th>Var_1</th>\n      <th>Segmentation</th>\n    </tr>\n  </thead>\n  <tbody>\n    <tr>\n      <th>6087</th>\n      <td>464509</td>\n      <td>Male</td>\n      <td>Yes</td>\n      <td>53</td>\n      <td>Yes</td>\n      <td>Artist</td>\n      <td>0.0</td>\n      <td>High</td>\n      <td>4.0</td>\n      <td>Cat_6</td>\n      <td>C</td>\n    </tr>\n    <tr>\n      <th>6723</th>\n      <td>467663</td>\n      <td>Male</td>\n      <td>Yes</td>\n      <td>31</td>\n      <td>No</td>\n      <td>Doctor</td>\n      <td>NaN</td>\n      <td>Average</td>\n      <td>2.0</td>\n      <td>Cat_6</td>\n      <td>D</td>\n    </tr>\n    <tr>\n      <th>130</th>\n      <td>465215</td>\n      <td>Male</td>\n      <td>Yes</td>\n      <td>39</td>\n      <td>Yes</td>\n      <td>Executive</td>\n      <td>9.0</td>\n      <td>High</td>\n      <td>5.0</td>\n      <td>Cat_2</td>\n      <td>A</td>\n    </tr>\n    <tr>\n      <th>3792</th>\n      <td>464782</td>\n      <td>Male</td>\n      <td>Yes</td>\n      <td>35</td>\n      <td>No</td>\n      <td>Marketing</td>\n      <td>0.0</td>\n      <td>Low</td>\n      <td>3.0</td>\n      <td>Cat_4</td>\n      <td>D</td>\n    </tr>\n    <tr>\n      <th>4444</th>\n      <td>465124</td>\n      <td>Female</td>\n      <td>Yes</td>\n      <td>29</td>\n      <td>Yes</td>\n      <td>Healthcare</td>\n      <td>6.0</td>\n      <td>Average</td>\n      <td>2.0</td>\n      <td>Cat_6</td>\n      <td>A</td>\n    </tr>\n    <tr>\n      <th>5685</th>\n      <td>466623</td>\n      <td>Male</td>\n      <td>Yes</td>\n      <td>56</td>\n      <td>NaN</td>\n      <td>Entertainment</td>\n      <td>4.0</td>\n      <td>Average</td>\n      <td>4.0</td>\n      <td>Cat_3</td>\n      <td>C</td>\n    </tr>\n    <tr>\n      <th>103</th>\n      <td>463426</td>\n      <td>Male</td>\n      <td>Yes</td>\n      <td>38</td>\n      <td>No</td>\n      <td>Executive</td>\n      <td>0.0</td>\n      <td>High</td>\n      <td>5.0</td>\n      <td>Cat_6</td>\n      <td>A</td>\n    </tr>\n    <tr>\n      <th>3988</th>\n      <td>460413</td>\n      <td>Female</td>\n      <td>No</td>\n      <td>39</td>\n      <td>Yes</td>\n      <td>Artist</td>\n      <td>7.0</td>\n      <td>Low</td>\n      <td>1.0</td>\n      <td>Cat_6</td>\n      <td>B</td>\n    </tr>\n    <tr>\n      <th>2567</th>\n      <td>463439</td>\n      <td>Male</td>\n      <td>Yes</td>\n      <td>42</td>\n      <td>Yes</td>\n      <td>Artist</td>\n      <td>9.0</td>\n      <td>Average</td>\n      <td>3.0</td>\n      <td>Cat_6</td>\n      <td>B</td>\n    </tr>\n    <tr>\n      <th>3593</th>\n      <td>460147</td>\n      <td>Male</td>\n      <td>Yes</td>\n      <td>67</td>\n      <td>Yes</td>\n      <td>Entertainment</td>\n      <td>1.0</td>\n      <td>Average</td>\n      <td>3.0</td>\n      <td>Cat_6</td>\n      <td>C</td>\n    </tr>\n  </tbody>\n</table>\n</div>"
     },
     "metadata": {},
     "execution_count": 2
    }
   ]
  },
  {
   "source": [
    "# Quick Data Cleaning\n",
    "We first analyze which columns have null, non-zero value. We try to fill those values first with categorical data based on our judgment."
   ],
   "cell_type": "markdown",
   "metadata": {}
  },
  {
   "cell_type": "code",
   "execution_count": 3,
   "metadata": {},
   "outputs": [
    {
     "output_type": "execute_result",
     "data": {
      "text/plain": [
       "ID                   int64\n",
       "Gender              object\n",
       "Ever_Married        object\n",
       "Age                  int64\n",
       "Graduated           object\n",
       "Profession          object\n",
       "Work_Experience    float64\n",
       "Spending_Score      object\n",
       "Family_Size        float64\n",
       "Var_1               object\n",
       "Segmentation        object\n",
       "dtype: object"
      ]
     },
     "metadata": {},
     "execution_count": 3
    }
   ],
   "source": [
    "df.dtypes"
   ]
  },
  {
   "cell_type": "code",
   "execution_count": 4,
   "metadata": {},
   "outputs": [
    {
     "output_type": "stream",
     "name": "stdout",
     "text": [
      "Column:  Gender\n['Male' 'Female']\n\nColumn:  Ever_Married\n['No' 'Yes' nan]\n\nColumn:  Graduated\n['No' 'Yes' nan]\n\nColumn:  Profession\n['Healthcare' 'Engineer' 'Lawyer' 'Entertainment' 'Artist' 'Executive'\n 'Doctor' 'Homemaker' 'Marketing' nan]\n\nColumn:  Work_Experience\n[ 1. nan  0.  4.  9. 12.  3. 13.  5.  8. 14.  7.  2.  6. 10. 11.]\n\nColumn:  Spending_Score\n['Low' 'Average' 'High']\n\nColumn:  Family_Size\n[ 4.  3.  1.  2.  6. nan  5.  8.  7.  9.]\n\nColumn:  Var_1\n['Cat_4' 'Cat_6' 'Cat_7' 'Cat_3' 'Cat_1' 'Cat_2' nan 'Cat_5']\n\nColumn:  Segmentation\n['D' 'A' 'B' 'C']\n\n"
     ]
    }
   ],
   "source": [
    "# Printing every unique values in our dataset, which involves `object` and `float64` datatype.\n",
    "for i in df.select_dtypes(include=['object', 'float64']).columns:\n",
    "    print(\"Column: \", i)\n",
    "    print(df[i].unique())\n",
    "    print()"
   ]
  },
  {
   "cell_type": "code",
   "execution_count": 5,
   "metadata": {},
   "outputs": [
    {
     "output_type": "stream",
     "name": "stdout",
     "text": [
      "ID\nFalse    8068\nName: ID, dtype: int64\n\nGender\nFalse    8068\nName: Gender, dtype: int64\n\nEver_Married\nFalse    7928\nTrue      140\nName: Ever_Married, dtype: int64\n\nAge\nFalse    8068\nName: Age, dtype: int64\n\nGraduated\nFalse    7990\nTrue       78\nName: Graduated, dtype: int64\n\nProfession\nFalse    7944\nTrue      124\nName: Profession, dtype: int64\n\nWork_Experience\nFalse    7239\nTrue      829\nName: Work_Experience, dtype: int64\n\nSpending_Score\nFalse    8068\nName: Spending_Score, dtype: int64\n\nFamily_Size\nFalse    7733\nTrue      335\nName: Family_Size, dtype: int64\n\nVar_1\nFalse    7992\nTrue       76\nName: Var_1, dtype: int64\n\nSegmentation\nFalse    8068\nName: Segmentation, dtype: int64\n\n"
     ]
    }
   ],
   "source": [
    "# Printing the number of null, non-zero values within each of the variables.\n",
    "for column in df.columns:\n",
    "    print(column)\n",
    "    print (df.isnull()[column].value_counts())\n",
    "    print(\"\") \n"
   ]
  },
  {
   "source": [
    "Thankfully the only continuous data with missing values are `Family_Size` and `Work_Experience`, thus we can define the data well enough."
   ],
   "cell_type": "markdown",
   "metadata": {}
  },
  {
   "source": [
    "## Filling `nan` values towards our missing data with proper considerations:\n",
    "1. `Ever_Married`: `Rather not disclose`, assuming that the user does not disclose out of privacy. This will create a new category;\n",
    "2. `Graduated`: `Yes`, referring to the majority of buyers, who will most likely already out of college;\n",
    "3. `Profession`: `Unemployed`, safest assumption towards datapoints without explicit profession statement. This will create a new category;\n",
    "4. `Work_Experience`: `0`, since the data is numerical with the lowest point of `1.`, we can assume that `null` work experience translates to the buyer not having any prior work experience;\n",
    "5. `Family_Size`: `1`, assuming that the buyer is currently single and/or living far away from parents;\n",
    "\n",
    "We can also drop the column `Var_1` since it represents anonymized user data, and does not represent the actual pattern of datapoints. We separate labels from features.\n",
    " "
   ],
   "cell_type": "markdown",
   "metadata": {}
  },
  {
   "cell_type": "code",
   "execution_count": 6,
   "metadata": {},
   "outputs": [
    {
     "output_type": "execute_result",
     "data": {
      "text/plain": [
       "False"
      ]
     },
     "metadata": {},
     "execution_count": 6
    }
   ],
   "source": [
    "values_to_fill = {\n",
    "    'Ever_Married': 'Rather not disclose', \n",
    "    'Graduated': 'Yes', \n",
    "    'Profession': 'Unemployed',\n",
    "    'Work_Experience': 0,\n",
    "    'Family_Size': 1\n",
    "}\n",
    "\n",
    "cleaned_df = df.fillna(value=values_to_fill).drop('Var_1', axis=1)\n",
    "cleaned_test_df = df_test.fillna(value=values_to_fill).drop('Var_1', axis=1)\n",
    "# Sanity check\n",
    "cleaned_test_df.isnull().values.any()\n"
   ]
  },
  {
   "cell_type": "code",
   "execution_count": 7,
   "metadata": {},
   "outputs": [
    {
     "output_type": "execute_result",
     "data": {
      "text/plain": [
       "          ID  Gender Ever_Married  Age Graduated     Profession  \\\n",
       "6087  464509    Male          Yes   53       Yes         Artist   \n",
       "6723  467663    Male          Yes   31        No         Doctor   \n",
       "130   465215    Male          Yes   39       Yes      Executive   \n",
       "3792  464782    Male          Yes   35        No      Marketing   \n",
       "4444  465124  Female          Yes   29       Yes     Healthcare   \n",
       "5685  466623    Male          Yes   56       Yes  Entertainment   \n",
       "103   463426    Male          Yes   38        No      Executive   \n",
       "3988  460413  Female           No   39       Yes         Artist   \n",
       "2567  463439    Male          Yes   42       Yes         Artist   \n",
       "3593  460147    Male          Yes   67       Yes  Entertainment   \n",
       "\n",
       "      Work_Experience Spending_Score  Family_Size Segmentation  \n",
       "6087              0.0           High          4.0            C  \n",
       "6723              0.0        Average          2.0            D  \n",
       "130               9.0           High          5.0            A  \n",
       "3792              0.0            Low          3.0            D  \n",
       "4444              6.0        Average          2.0            A  \n",
       "5685              4.0        Average          4.0            C  \n",
       "103               0.0           High          5.0            A  \n",
       "3988              7.0            Low          1.0            B  \n",
       "2567              9.0        Average          3.0            B  \n",
       "3593              1.0        Average          3.0            C  "
      ],
      "text/html": "<div>\n<style scoped>\n    .dataframe tbody tr th:only-of-type {\n        vertical-align: middle;\n    }\n\n    .dataframe tbody tr th {\n        vertical-align: top;\n    }\n\n    .dataframe thead th {\n        text-align: right;\n    }\n</style>\n<table border=\"1\" class=\"dataframe\">\n  <thead>\n    <tr style=\"text-align: right;\">\n      <th></th>\n      <th>ID</th>\n      <th>Gender</th>\n      <th>Ever_Married</th>\n      <th>Age</th>\n      <th>Graduated</th>\n      <th>Profession</th>\n      <th>Work_Experience</th>\n      <th>Spending_Score</th>\n      <th>Family_Size</th>\n      <th>Segmentation</th>\n    </tr>\n  </thead>\n  <tbody>\n    <tr>\n      <th>6087</th>\n      <td>464509</td>\n      <td>Male</td>\n      <td>Yes</td>\n      <td>53</td>\n      <td>Yes</td>\n      <td>Artist</td>\n      <td>0.0</td>\n      <td>High</td>\n      <td>4.0</td>\n      <td>C</td>\n    </tr>\n    <tr>\n      <th>6723</th>\n      <td>467663</td>\n      <td>Male</td>\n      <td>Yes</td>\n      <td>31</td>\n      <td>No</td>\n      <td>Doctor</td>\n      <td>0.0</td>\n      <td>Average</td>\n      <td>2.0</td>\n      <td>D</td>\n    </tr>\n    <tr>\n      <th>130</th>\n      <td>465215</td>\n      <td>Male</td>\n      <td>Yes</td>\n      <td>39</td>\n      <td>Yes</td>\n      <td>Executive</td>\n      <td>9.0</td>\n      <td>High</td>\n      <td>5.0</td>\n      <td>A</td>\n    </tr>\n    <tr>\n      <th>3792</th>\n      <td>464782</td>\n      <td>Male</td>\n      <td>Yes</td>\n      <td>35</td>\n      <td>No</td>\n      <td>Marketing</td>\n      <td>0.0</td>\n      <td>Low</td>\n      <td>3.0</td>\n      <td>D</td>\n    </tr>\n    <tr>\n      <th>4444</th>\n      <td>465124</td>\n      <td>Female</td>\n      <td>Yes</td>\n      <td>29</td>\n      <td>Yes</td>\n      <td>Healthcare</td>\n      <td>6.0</td>\n      <td>Average</td>\n      <td>2.0</td>\n      <td>A</td>\n    </tr>\n    <tr>\n      <th>5685</th>\n      <td>466623</td>\n      <td>Male</td>\n      <td>Yes</td>\n      <td>56</td>\n      <td>Yes</td>\n      <td>Entertainment</td>\n      <td>4.0</td>\n      <td>Average</td>\n      <td>4.0</td>\n      <td>C</td>\n    </tr>\n    <tr>\n      <th>103</th>\n      <td>463426</td>\n      <td>Male</td>\n      <td>Yes</td>\n      <td>38</td>\n      <td>No</td>\n      <td>Executive</td>\n      <td>0.0</td>\n      <td>High</td>\n      <td>5.0</td>\n      <td>A</td>\n    </tr>\n    <tr>\n      <th>3988</th>\n      <td>460413</td>\n      <td>Female</td>\n      <td>No</td>\n      <td>39</td>\n      <td>Yes</td>\n      <td>Artist</td>\n      <td>7.0</td>\n      <td>Low</td>\n      <td>1.0</td>\n      <td>B</td>\n    </tr>\n    <tr>\n      <th>2567</th>\n      <td>463439</td>\n      <td>Male</td>\n      <td>Yes</td>\n      <td>42</td>\n      <td>Yes</td>\n      <td>Artist</td>\n      <td>9.0</td>\n      <td>Average</td>\n      <td>3.0</td>\n      <td>B</td>\n    </tr>\n    <tr>\n      <th>3593</th>\n      <td>460147</td>\n      <td>Male</td>\n      <td>Yes</td>\n      <td>67</td>\n      <td>Yes</td>\n      <td>Entertainment</td>\n      <td>1.0</td>\n      <td>Average</td>\n      <td>3.0</td>\n      <td>C</td>\n    </tr>\n  </tbody>\n</table>\n</div>"
     },
     "metadata": {},
     "execution_count": 7
    }
   ],
   "source": [
    "# This fraction has been the exact same 10 samples displayed before cleaning.\n",
    "cleaned_df.sample(n=10, random_state=1) "
   ]
  },
  {
   "cell_type": "code",
   "execution_count": 8,
   "metadata": {},
   "outputs": [],
   "source": [
    "features = cleaned_df.iloc[:, 1:-1] \n",
    "labels = cleaned_df.iloc[:, -1]\n",
    "\n",
    "features_test = cleaned_test_df.iloc[:, 1:-1] \n",
    "labels_test = cleaned_test_df.iloc[:, -1]"
   ]
  },
  {
   "source": [
    "# Preprocessing\n",
    "## Label Encoding\n",
    "Categorical data must be pre-processed using one-hot encoding. In this workflow, we'll use Label Encoding (as opposed to the usual one-hot encoding) so as to save memory by converting categorical variables towards a single dense array without making a new column for each.\n",
    "\n",
    "We do this by importing the necessities from `sklearn.preprocessing`."
   ],
   "cell_type": "markdown",
   "metadata": {}
  },
  {
   "cell_type": "code",
   "execution_count": 9,
   "metadata": {},
   "outputs": [
    {
     "output_type": "stream",
     "name": "stdout",
     "text": [
      "For column:  Gender\n{'Female': 0, 'Male': 1}\nFor column:  Ever_Married\n{'No': 0, 'Rather not disclose': 1, 'Yes': 2}\nFor column:  Graduated\n{'No': 0, 'Yes': 1}\nFor column:  Profession\n{'Artist': 0, 'Doctor': 1, 'Engineer': 2, 'Entertainment': 3, 'Executive': 4, 'Healthcare': 5, 'Homemaker': 6, 'Lawyer': 7, 'Marketing': 8, 'Unemployed': 9}\nFor column:  Spending_Score\n{'Average': 0, 'High': 1, 'Low': 2}\n"
     ]
    }
   ],
   "source": [
    "from sklearn.preprocessing import LabelEncoder\n",
    "\n",
    "## Helper function to map encoded label classes\n",
    "def get_integer_mapping(le):\n",
    "    '''\n",
    "    Return a dict mapping labels to their integer values\n",
    "    from an SKlearn LabelEncoder\n",
    "\n",
    "    Arguments:\n",
    "    le = a fitted SKlearn LabelEncoder\n",
    "    '''\n",
    "    res = {}\n",
    "    for cl in le.classes_:\n",
    "        res.update({cl:le.transform([cl])[0]})\n",
    "\n",
    "    return res\n",
    "\n",
    "## In-place transformation towards features:\n",
    "for col in ['Gender', 'Ever_Married', 'Graduated', 'Profession', 'Spending_Score']:\n",
    "    encoder = LabelEncoder()\n",
    "    features[col] = encoder.fit_transform(features[col])\n",
    "    print(\"For column: \", col)\n",
    "    print(get_integer_mapping(encoder))\n",
    "\n",
    "## We do the same in-place transformation towards test features:\n",
    "for col in ['Gender', 'Ever_Married', 'Graduated', 'Profession', 'Spending_Score']:\n",
    "    encoder = LabelEncoder()\n",
    "    features_test[col] = encoder.fit_transform(features_test[col])\n",
    "    ##print(\"For column: \", col)\n",
    "    ##print(get_integer_mapping(encoder))\n"
   ]
  },
  {
   "source": [
    "We do the same towards labels:"
   ],
   "cell_type": "markdown",
   "metadata": {}
  },
  {
   "cell_type": "code",
   "execution_count": 167,
   "metadata": {},
   "outputs": [
    {
     "output_type": "stream",
     "name": "stdout",
     "text": [
      "{'A': 0, 'B': 1, 'C': 2, 'D': 3}\n"
     ]
    }
   ],
   "source": []
  },
  {
   "source": [
    "## Normalization\n",
    "The feature `Age` has potential to squish our other features flat when plotting towards one another. Thus, we perform **Normalization** to prevent this from happening. \n",
    "\n",
    "We can do this also from the `sklearn.preprocessing` class."
   ],
   "cell_type": "markdown",
   "metadata": {}
  },
  {
   "cell_type": "code",
   "execution_count": 10,
   "metadata": {},
   "outputs": [
    {
     "output_type": "execute_result",
     "data": {
      "text/plain": [
       "      Gender  Ever_Married       Age  Graduated  Profession  Work_Experience  \\\n",
       "0          1             0  0.056338          0           5              1.0   \n",
       "1          0             2  0.281690          1           2              0.0   \n",
       "2          0             2  0.690141          1           2              1.0   \n",
       "3          1             2  0.690141          1           7              0.0   \n",
       "4          0             2  0.309859          1           3              0.0   \n",
       "...      ...           ...       ...        ...         ...              ...   \n",
       "8063       1             0  0.056338          0           9              0.0   \n",
       "8064       1             0  0.239437          0           4              3.0   \n",
       "8065       0             0  0.211268          1           5              1.0   \n",
       "8066       0             0  0.126761          1           5              1.0   \n",
       "8067       1             2  0.267606          1           4              0.0   \n",
       "\n",
       "      Spending_Score  Family_Size  \n",
       "0                  2          4.0  \n",
       "1                  0          3.0  \n",
       "2                  2          1.0  \n",
       "3                  1          2.0  \n",
       "4                  1          6.0  \n",
       "...              ...          ...  \n",
       "8063               2          7.0  \n",
       "8064               2          4.0  \n",
       "8065               2          1.0  \n",
       "8066               2          4.0  \n",
       "8067               0          3.0  \n",
       "\n",
       "[8068 rows x 8 columns]"
      ],
      "text/html": "<div>\n<style scoped>\n    .dataframe tbody tr th:only-of-type {\n        vertical-align: middle;\n    }\n\n    .dataframe tbody tr th {\n        vertical-align: top;\n    }\n\n    .dataframe thead th {\n        text-align: right;\n    }\n</style>\n<table border=\"1\" class=\"dataframe\">\n  <thead>\n    <tr style=\"text-align: right;\">\n      <th></th>\n      <th>Gender</th>\n      <th>Ever_Married</th>\n      <th>Age</th>\n      <th>Graduated</th>\n      <th>Profession</th>\n      <th>Work_Experience</th>\n      <th>Spending_Score</th>\n      <th>Family_Size</th>\n    </tr>\n  </thead>\n  <tbody>\n    <tr>\n      <th>0</th>\n      <td>1</td>\n      <td>0</td>\n      <td>0.056338</td>\n      <td>0</td>\n      <td>5</td>\n      <td>1.0</td>\n      <td>2</td>\n      <td>4.0</td>\n    </tr>\n    <tr>\n      <th>1</th>\n      <td>0</td>\n      <td>2</td>\n      <td>0.281690</td>\n      <td>1</td>\n      <td>2</td>\n      <td>0.0</td>\n      <td>0</td>\n      <td>3.0</td>\n    </tr>\n    <tr>\n      <th>2</th>\n      <td>0</td>\n      <td>2</td>\n      <td>0.690141</td>\n      <td>1</td>\n      <td>2</td>\n      <td>1.0</td>\n      <td>2</td>\n      <td>1.0</td>\n    </tr>\n    <tr>\n      <th>3</th>\n      <td>1</td>\n      <td>2</td>\n      <td>0.690141</td>\n      <td>1</td>\n      <td>7</td>\n      <td>0.0</td>\n      <td>1</td>\n      <td>2.0</td>\n    </tr>\n    <tr>\n      <th>4</th>\n      <td>0</td>\n      <td>2</td>\n      <td>0.309859</td>\n      <td>1</td>\n      <td>3</td>\n      <td>0.0</td>\n      <td>1</td>\n      <td>6.0</td>\n    </tr>\n    <tr>\n      <th>...</th>\n      <td>...</td>\n      <td>...</td>\n      <td>...</td>\n      <td>...</td>\n      <td>...</td>\n      <td>...</td>\n      <td>...</td>\n      <td>...</td>\n    </tr>\n    <tr>\n      <th>8063</th>\n      <td>1</td>\n      <td>0</td>\n      <td>0.056338</td>\n      <td>0</td>\n      <td>9</td>\n      <td>0.0</td>\n      <td>2</td>\n      <td>7.0</td>\n    </tr>\n    <tr>\n      <th>8064</th>\n      <td>1</td>\n      <td>0</td>\n      <td>0.239437</td>\n      <td>0</td>\n      <td>4</td>\n      <td>3.0</td>\n      <td>2</td>\n      <td>4.0</td>\n    </tr>\n    <tr>\n      <th>8065</th>\n      <td>0</td>\n      <td>0</td>\n      <td>0.211268</td>\n      <td>1</td>\n      <td>5</td>\n      <td>1.0</td>\n      <td>2</td>\n      <td>1.0</td>\n    </tr>\n    <tr>\n      <th>8066</th>\n      <td>0</td>\n      <td>0</td>\n      <td>0.126761</td>\n      <td>1</td>\n      <td>5</td>\n      <td>1.0</td>\n      <td>2</td>\n      <td>4.0</td>\n    </tr>\n    <tr>\n      <th>8067</th>\n      <td>1</td>\n      <td>2</td>\n      <td>0.267606</td>\n      <td>1</td>\n      <td>4</td>\n      <td>0.0</td>\n      <td>0</td>\n      <td>3.0</td>\n    </tr>\n  </tbody>\n</table>\n<p>8068 rows × 8 columns</p>\n</div>"
     },
     "metadata": {},
     "execution_count": 10
    }
   ],
   "source": [
    "from sklearn.preprocessing import MinMaxScaler\n",
    "feature_columns = features.columns.tolist()\n",
    "scaler = MinMaxScaler() # Instantiate scaler object\n",
    "features['Age'] = scaler.fit_transform(features[['Age']])\n",
    "\n",
    "features"
   ]
  },
  {
   "source": [
    "# Modelling\n",
    "Our data is now ready to be fed into the model. For this instance, we'll be using `K-Nearest Neighbors` class of `scikit-learn`, yet there are more appropriate deep learning models to be fed this kind of data.\n",
    "\n",
    "## Training-Validation Splitting\n",
    "We split our data into training and validation sets, as to train the model on training data and testing model’s accuracy on the validation set. We choose a 80%–20% split for our training and validation set. Once our model has received a good enough performance, we can test it on our unseen `test_df` data to deliver the final verdict.\n",
    "\n",
    "Import the necessities below: "
   ],
   "cell_type": "markdown",
   "metadata": {}
  },
  {
   "cell_type": "code",
   "execution_count": 11,
   "metadata": {},
   "outputs": [
    {
     "output_type": "stream",
     "name": "stdout",
     "text": [
      "Training set consists of 6454 datapoints.\nValidation set consists of 1614 datapoints.\n"
     ]
    }
   ],
   "source": [
    "from sklearn.model_selection import train_test_split\n",
    "\n",
    "features_train, features_val, labels_train, labels_val = train_test_split(features, labels, test_size=0.2, random_state=42) \n",
    "# random_state provides reproducibility :)\n",
    "\n",
    "print(\"Training set consists of\", len(features_train), \"datapoints.\")\n",
    "print(\"Validation set consists of\", len(features_val), \"datapoints.\")"
   ]
  },
  {
   "source": [
    "Now we have  variables to work with:\n",
    "\n",
    "1. `features_train`, consisting of main dataset to train with\n",
    "2. `labels_train`, consisting of main class labels to train alongside `features_train`\n",
    "3. `features_val`, consisting of validation dataset features to calculate errors\n",
    "4. `labels_val`, consisting of validation class labels to calculate errors alongside `features_val`\n",
    "5. `features_test`, unseen feature dataset\n",
    "6. `labels_test`, unseen labels for ground truth\n",
    "\n",
    "## Baseline Initialization\n",
    "\n",
    "We start with a dummy model before performing the classification task. This is done to provide a baseline, which we'll use to evaluate whether the model being made performs reasonably or not.\n",
    "\n",
    "For this project, the baseline is calculated with the `uniform` method along the evaluation metric Mean Absolute Error.\n",
    "\n",
    "Feel free to use other methods for the reproducibility of the result.\n"
   ],
   "cell_type": "markdown",
   "metadata": {}
  },
  {
   "cell_type": "code",
   "execution_count": 12,
   "metadata": {},
   "outputs": [
    {
     "output_type": "stream",
     "name": "stdout",
     "text": [
      "The model must have a (weighted) F1 score higher than 0.224\n"
     ]
    }
   ],
   "source": [
    "from sklearn.dummy import DummyClassifier\n",
    "from sklearn.metrics import f1_score\n",
    "\n",
    "dummy_classifier = DummyClassifier(strategy='uniform')\n",
    "dummy_classifier.fit(features_train, labels_train)\n",
    "dummy_y_pred = dummy_classifier.predict(features_val)\n",
    "\n",
    "F1_baseline = f1_score(labels_val, dummy_y_pred, average='weighted')\n",
    "print(\"The model must have a (weighted) F1 score higher than\", round(F1_baseline, 3))\n"
   ]
  },
  {
   "source": [
    "We first find the optimum number of k-neighbors before feeding the dataset, by iterating from values `1` to `200` like so:"
   ],
   "cell_type": "markdown",
   "metadata": {}
  },
  {
   "cell_type": "code",
   "execution_count": 13,
   "metadata": {},
   "outputs": [
    {
     "output_type": "display_data",
     "data": {
      "text/plain": "<Figure size 1008x720 with 1 Axes>",
      "image/svg+xml": "<?xml version=\"1.0\" encoding=\"utf-8\" standalone=\"no\"?>\r\n<!DOCTYPE svg PUBLIC \"-//W3C//DTD SVG 1.1//EN\"\r\n  \"http://www.w3.org/Graphics/SVG/1.1/DTD/svg11.dtd\">\r\n<!-- Created with matplotlib (https://matplotlib.org/) -->\r\n<svg height=\"588.35625pt\" version=\"1.1\" viewBox=\"0 0 838.54375 588.35625\" width=\"838.54375pt\" xmlns=\"http://www.w3.org/2000/svg\" xmlns:xlink=\"http://www.w3.org/1999/xlink\">\r\n <defs>\r\n  <style type=\"text/css\">\r\n*{stroke-linecap:butt;stroke-linejoin:round;}\r\n  </style>\r\n </defs>\r\n <g id=\"figure_1\">\r\n  <g id=\"patch_1\">\r\n   <path d=\"M 0 588.35625 \r\nL 838.54375 588.35625 \r\nL 838.54375 0 \r\nL 0 0 \r\nz\r\n\"/>\r\n  </g>\r\n  <g id=\"axes_1\">\r\n   <g id=\"patch_2\">\r\n    <path d=\"M 50.14375 550.8 \r\nL 831.34375 550.8 \r\nL 831.34375 7.2 \r\nL 50.14375 7.2 \r\nz\r\n\"/>\r\n   </g>\r\n   <g id=\"matplotlib.axis_1\">\r\n    <g id=\"xtick_1\">\r\n     <g id=\"line2d_1\">\r\n      <defs>\r\n       <path d=\"M 0 0 \r\nL 0 3.5 \r\n\" id=\"medc227e322\" style=\"stroke:#ffffff;stroke-width:0.8;\"/>\r\n      </defs>\r\n      <g>\r\n       <use style=\"fill:#ffffff;stroke:#ffffff;stroke-width:0.8;\" x=\"82.066064\" xlink:href=\"#medc227e322\" y=\"550.8\"/>\r\n      </g>\r\n     </g>\r\n     <g id=\"text_1\">\r\n      <!-- 0 -->\r\n      <defs>\r\n       <path d=\"M 31.78125 66.40625 \r\nQ 24.171875 66.40625 20.328125 58.90625 \r\nQ 16.5 51.421875 16.5 36.375 \r\nQ 16.5 21.390625 20.328125 13.890625 \r\nQ 24.171875 6.390625 31.78125 6.390625 \r\nQ 39.453125 6.390625 43.28125 13.890625 \r\nQ 47.125 21.390625 47.125 36.375 \r\nQ 47.125 51.421875 43.28125 58.90625 \r\nQ 39.453125 66.40625 31.78125 66.40625 \r\nz\r\nM 31.78125 74.21875 \r\nQ 44.046875 74.21875 50.515625 64.515625 \r\nQ 56.984375 54.828125 56.984375 36.375 \r\nQ 56.984375 17.96875 50.515625 8.265625 \r\nQ 44.046875 -1.421875 31.78125 -1.421875 \r\nQ 19.53125 -1.421875 13.0625 8.265625 \r\nQ 6.59375 17.96875 6.59375 36.375 \r\nQ 6.59375 54.828125 13.0625 64.515625 \r\nQ 19.53125 74.21875 31.78125 74.21875 \r\nz\r\n\" id=\"DejaVuSans-48\"/>\r\n      </defs>\r\n      <g style=\"fill:#ffffff;\" transform=\"translate(78.884814 565.398438)scale(0.1 -0.1)\">\r\n       <use xlink:href=\"#DejaVuSans-48\"/>\r\n      </g>\r\n     </g>\r\n    </g>\r\n    <g id=\"xtick_2\">\r\n     <g id=\"line2d_2\">\r\n      <g>\r\n       <use style=\"fill:#ffffff;stroke:#ffffff;stroke-width:0.8;\" x=\"171.735486\" xlink:href=\"#medc227e322\" y=\"550.8\"/>\r\n      </g>\r\n     </g>\r\n     <g id=\"text_2\">\r\n      <!-- 25 -->\r\n      <defs>\r\n       <path d=\"M 19.1875 8.296875 \r\nL 53.609375 8.296875 \r\nL 53.609375 0 \r\nL 7.328125 0 \r\nL 7.328125 8.296875 \r\nQ 12.9375 14.109375 22.625 23.890625 \r\nQ 32.328125 33.6875 34.8125 36.53125 \r\nQ 39.546875 41.84375 41.421875 45.53125 \r\nQ 43.3125 49.21875 43.3125 52.78125 \r\nQ 43.3125 58.59375 39.234375 62.25 \r\nQ 35.15625 65.921875 28.609375 65.921875 \r\nQ 23.96875 65.921875 18.8125 64.3125 \r\nQ 13.671875 62.703125 7.8125 59.421875 \r\nL 7.8125 69.390625 \r\nQ 13.765625 71.78125 18.9375 73 \r\nQ 24.125 74.21875 28.421875 74.21875 \r\nQ 39.75 74.21875 46.484375 68.546875 \r\nQ 53.21875 62.890625 53.21875 53.421875 \r\nQ 53.21875 48.921875 51.53125 44.890625 \r\nQ 49.859375 40.875 45.40625 35.40625 \r\nQ 44.1875 33.984375 37.640625 27.21875 \r\nQ 31.109375 20.453125 19.1875 8.296875 \r\nz\r\n\" id=\"DejaVuSans-50\"/>\r\n       <path d=\"M 10.796875 72.90625 \r\nL 49.515625 72.90625 \r\nL 49.515625 64.59375 \r\nL 19.828125 64.59375 \r\nL 19.828125 46.734375 \r\nQ 21.96875 47.46875 24.109375 47.828125 \r\nQ 26.265625 48.1875 28.421875 48.1875 \r\nQ 40.625 48.1875 47.75 41.5 \r\nQ 54.890625 34.8125 54.890625 23.390625 \r\nQ 54.890625 11.625 47.5625 5.09375 \r\nQ 40.234375 -1.421875 26.90625 -1.421875 \r\nQ 22.3125 -1.421875 17.546875 -0.640625 \r\nQ 12.796875 0.140625 7.71875 1.703125 \r\nL 7.71875 11.625 \r\nQ 12.109375 9.234375 16.796875 8.0625 \r\nQ 21.484375 6.890625 26.703125 6.890625 \r\nQ 35.15625 6.890625 40.078125 11.328125 \r\nQ 45.015625 15.765625 45.015625 23.390625 \r\nQ 45.015625 31 40.078125 35.4375 \r\nQ 35.15625 39.890625 26.703125 39.890625 \r\nQ 22.75 39.890625 18.8125 39.015625 \r\nQ 14.890625 38.140625 10.796875 36.28125 \r\nz\r\n\" id=\"DejaVuSans-53\"/>\r\n      </defs>\r\n      <g style=\"fill:#ffffff;\" transform=\"translate(165.372986 565.398438)scale(0.1 -0.1)\">\r\n       <use xlink:href=\"#DejaVuSans-50\"/>\r\n       <use x=\"63.623047\" xlink:href=\"#DejaVuSans-53\"/>\r\n      </g>\r\n     </g>\r\n    </g>\r\n    <g id=\"xtick_3\">\r\n     <g id=\"line2d_3\">\r\n      <g>\r\n       <use style=\"fill:#ffffff;stroke:#ffffff;stroke-width:0.8;\" x=\"261.404907\" xlink:href=\"#medc227e322\" y=\"550.8\"/>\r\n      </g>\r\n     </g>\r\n     <g id=\"text_3\">\r\n      <!-- 50 -->\r\n      <g style=\"fill:#ffffff;\" transform=\"translate(255.042407 565.398438)scale(0.1 -0.1)\">\r\n       <use xlink:href=\"#DejaVuSans-53\"/>\r\n       <use x=\"63.623047\" xlink:href=\"#DejaVuSans-48\"/>\r\n      </g>\r\n     </g>\r\n    </g>\r\n    <g id=\"xtick_4\">\r\n     <g id=\"line2d_4\">\r\n      <g>\r\n       <use style=\"fill:#ffffff;stroke:#ffffff;stroke-width:0.8;\" x=\"351.074329\" xlink:href=\"#medc227e322\" y=\"550.8\"/>\r\n      </g>\r\n     </g>\r\n     <g id=\"text_4\">\r\n      <!-- 75 -->\r\n      <defs>\r\n       <path d=\"M 8.203125 72.90625 \r\nL 55.078125 72.90625 \r\nL 55.078125 68.703125 \r\nL 28.609375 0 \r\nL 18.3125 0 \r\nL 43.21875 64.59375 \r\nL 8.203125 64.59375 \r\nz\r\n\" id=\"DejaVuSans-55\"/>\r\n      </defs>\r\n      <g style=\"fill:#ffffff;\" transform=\"translate(344.711829 565.398438)scale(0.1 -0.1)\">\r\n       <use xlink:href=\"#DejaVuSans-55\"/>\r\n       <use x=\"63.623047\" xlink:href=\"#DejaVuSans-53\"/>\r\n      </g>\r\n     </g>\r\n    </g>\r\n    <g id=\"xtick_5\">\r\n     <g id=\"line2d_5\">\r\n      <g>\r\n       <use style=\"fill:#ffffff;stroke:#ffffff;stroke-width:0.8;\" x=\"440.74375\" xlink:href=\"#medc227e322\" y=\"550.8\"/>\r\n      </g>\r\n     </g>\r\n     <g id=\"text_5\">\r\n      <!-- 100 -->\r\n      <defs>\r\n       <path d=\"M 12.40625 8.296875 \r\nL 28.515625 8.296875 \r\nL 28.515625 63.921875 \r\nL 10.984375 60.40625 \r\nL 10.984375 69.390625 \r\nL 28.421875 72.90625 \r\nL 38.28125 72.90625 \r\nL 38.28125 8.296875 \r\nL 54.390625 8.296875 \r\nL 54.390625 0 \r\nL 12.40625 0 \r\nz\r\n\" id=\"DejaVuSans-49\"/>\r\n      </defs>\r\n      <g style=\"fill:#ffffff;\" transform=\"translate(431.2 565.398438)scale(0.1 -0.1)\">\r\n       <use xlink:href=\"#DejaVuSans-49\"/>\r\n       <use x=\"63.623047\" xlink:href=\"#DejaVuSans-48\"/>\r\n       <use x=\"127.246094\" xlink:href=\"#DejaVuSans-48\"/>\r\n      </g>\r\n     </g>\r\n    </g>\r\n    <g id=\"xtick_6\">\r\n     <g id=\"line2d_6\">\r\n      <g>\r\n       <use style=\"fill:#ffffff;stroke:#ffffff;stroke-width:0.8;\" x=\"530.413171\" xlink:href=\"#medc227e322\" y=\"550.8\"/>\r\n      </g>\r\n     </g>\r\n     <g id=\"text_6\">\r\n      <!-- 125 -->\r\n      <g style=\"fill:#ffffff;\" transform=\"translate(520.869421 565.398438)scale(0.1 -0.1)\">\r\n       <use xlink:href=\"#DejaVuSans-49\"/>\r\n       <use x=\"63.623047\" xlink:href=\"#DejaVuSans-50\"/>\r\n       <use x=\"127.246094\" xlink:href=\"#DejaVuSans-53\"/>\r\n      </g>\r\n     </g>\r\n    </g>\r\n    <g id=\"xtick_7\">\r\n     <g id=\"line2d_7\">\r\n      <g>\r\n       <use style=\"fill:#ffffff;stroke:#ffffff;stroke-width:0.8;\" x=\"620.082593\" xlink:href=\"#medc227e322\" y=\"550.8\"/>\r\n      </g>\r\n     </g>\r\n     <g id=\"text_7\">\r\n      <!-- 150 -->\r\n      <g style=\"fill:#ffffff;\" transform=\"translate(610.538843 565.398438)scale(0.1 -0.1)\">\r\n       <use xlink:href=\"#DejaVuSans-49\"/>\r\n       <use x=\"63.623047\" xlink:href=\"#DejaVuSans-53\"/>\r\n       <use x=\"127.246094\" xlink:href=\"#DejaVuSans-48\"/>\r\n      </g>\r\n     </g>\r\n    </g>\r\n    <g id=\"xtick_8\">\r\n     <g id=\"line2d_8\">\r\n      <g>\r\n       <use style=\"fill:#ffffff;stroke:#ffffff;stroke-width:0.8;\" x=\"709.752014\" xlink:href=\"#medc227e322\" y=\"550.8\"/>\r\n      </g>\r\n     </g>\r\n     <g id=\"text_8\">\r\n      <!-- 175 -->\r\n      <g style=\"fill:#ffffff;\" transform=\"translate(700.208264 565.398438)scale(0.1 -0.1)\">\r\n       <use xlink:href=\"#DejaVuSans-49\"/>\r\n       <use x=\"63.623047\" xlink:href=\"#DejaVuSans-55\"/>\r\n       <use x=\"127.246094\" xlink:href=\"#DejaVuSans-53\"/>\r\n      </g>\r\n     </g>\r\n    </g>\r\n    <g id=\"xtick_9\">\r\n     <g id=\"line2d_9\">\r\n      <g>\r\n       <use style=\"fill:#ffffff;stroke:#ffffff;stroke-width:0.8;\" x=\"799.421436\" xlink:href=\"#medc227e322\" y=\"550.8\"/>\r\n      </g>\r\n     </g>\r\n     <g id=\"text_9\">\r\n      <!-- 200 -->\r\n      <g style=\"fill:#ffffff;\" transform=\"translate(789.877686 565.398438)scale(0.1 -0.1)\">\r\n       <use xlink:href=\"#DejaVuSans-50\"/>\r\n       <use x=\"63.623047\" xlink:href=\"#DejaVuSans-48\"/>\r\n       <use x=\"127.246094\" xlink:href=\"#DejaVuSans-48\"/>\r\n      </g>\r\n     </g>\r\n    </g>\r\n    <g id=\"text_10\">\r\n     <!-- k value -->\r\n     <defs>\r\n      <path d=\"M 9.078125 75.984375 \r\nL 18.109375 75.984375 \r\nL 18.109375 31.109375 \r\nL 44.921875 54.6875 \r\nL 56.390625 54.6875 \r\nL 27.390625 29.109375 \r\nL 57.625 0 \r\nL 45.90625 0 \r\nL 18.109375 26.703125 \r\nL 18.109375 0 \r\nL 9.078125 0 \r\nz\r\n\" id=\"DejaVuSans-107\"/>\r\n      <path id=\"DejaVuSans-32\"/>\r\n      <path d=\"M 2.984375 54.6875 \r\nL 12.5 54.6875 \r\nL 29.59375 8.796875 \r\nL 46.6875 54.6875 \r\nL 56.203125 54.6875 \r\nL 35.6875 0 \r\nL 23.484375 0 \r\nz\r\n\" id=\"DejaVuSans-118\"/>\r\n      <path d=\"M 34.28125 27.484375 \r\nQ 23.390625 27.484375 19.1875 25 \r\nQ 14.984375 22.515625 14.984375 16.5 \r\nQ 14.984375 11.71875 18.140625 8.90625 \r\nQ 21.296875 6.109375 26.703125 6.109375 \r\nQ 34.1875 6.109375 38.703125 11.40625 \r\nQ 43.21875 16.703125 43.21875 25.484375 \r\nL 43.21875 27.484375 \r\nz\r\nM 52.203125 31.203125 \r\nL 52.203125 0 \r\nL 43.21875 0 \r\nL 43.21875 8.296875 \r\nQ 40.140625 3.328125 35.546875 0.953125 \r\nQ 30.953125 -1.421875 24.3125 -1.421875 \r\nQ 15.921875 -1.421875 10.953125 3.296875 \r\nQ 6 8.015625 6 15.921875 \r\nQ 6 25.140625 12.171875 29.828125 \r\nQ 18.359375 34.515625 30.609375 34.515625 \r\nL 43.21875 34.515625 \r\nL 43.21875 35.40625 \r\nQ 43.21875 41.609375 39.140625 45 \r\nQ 35.0625 48.390625 27.6875 48.390625 \r\nQ 23 48.390625 18.546875 47.265625 \r\nQ 14.109375 46.140625 10.015625 43.890625 \r\nL 10.015625 52.203125 \r\nQ 14.9375 54.109375 19.578125 55.046875 \r\nQ 24.21875 56 28.609375 56 \r\nQ 40.484375 56 46.34375 49.84375 \r\nQ 52.203125 43.703125 52.203125 31.203125 \r\nz\r\n\" id=\"DejaVuSans-97\"/>\r\n      <path d=\"M 9.421875 75.984375 \r\nL 18.40625 75.984375 \r\nL 18.40625 0 \r\nL 9.421875 0 \r\nz\r\n\" id=\"DejaVuSans-108\"/>\r\n      <path d=\"M 8.5 21.578125 \r\nL 8.5 54.6875 \r\nL 17.484375 54.6875 \r\nL 17.484375 21.921875 \r\nQ 17.484375 14.15625 20.5 10.265625 \r\nQ 23.53125 6.390625 29.59375 6.390625 \r\nQ 36.859375 6.390625 41.078125 11.03125 \r\nQ 45.3125 15.671875 45.3125 23.6875 \r\nL 45.3125 54.6875 \r\nL 54.296875 54.6875 \r\nL 54.296875 0 \r\nL 45.3125 0 \r\nL 45.3125 8.40625 \r\nQ 42.046875 3.421875 37.71875 1 \r\nQ 33.40625 -1.421875 27.6875 -1.421875 \r\nQ 18.265625 -1.421875 13.375 4.4375 \r\nQ 8.5 10.296875 8.5 21.578125 \r\nz\r\nM 31.109375 56 \r\nz\r\n\" id=\"DejaVuSans-117\"/>\r\n      <path d=\"M 56.203125 29.59375 \r\nL 56.203125 25.203125 \r\nL 14.890625 25.203125 \r\nQ 15.484375 15.921875 20.484375 11.0625 \r\nQ 25.484375 6.203125 34.421875 6.203125 \r\nQ 39.59375 6.203125 44.453125 7.46875 \r\nQ 49.3125 8.734375 54.109375 11.28125 \r\nL 54.109375 2.78125 \r\nQ 49.265625 0.734375 44.1875 -0.34375 \r\nQ 39.109375 -1.421875 33.890625 -1.421875 \r\nQ 20.796875 -1.421875 13.15625 6.1875 \r\nQ 5.515625 13.8125 5.515625 26.8125 \r\nQ 5.515625 40.234375 12.765625 48.109375 \r\nQ 20.015625 56 32.328125 56 \r\nQ 43.359375 56 49.78125 48.890625 \r\nQ 56.203125 41.796875 56.203125 29.59375 \r\nz\r\nM 47.21875 32.234375 \r\nQ 47.125 39.59375 43.09375 43.984375 \r\nQ 39.0625 48.390625 32.421875 48.390625 \r\nQ 24.90625 48.390625 20.390625 44.140625 \r\nQ 15.875 39.890625 15.1875 32.171875 \r\nz\r\n\" id=\"DejaVuSans-101\"/>\r\n     </defs>\r\n     <g style=\"fill:#ffffff;\" transform=\"translate(422.601563 579.076563)scale(0.1 -0.1)\">\r\n      <use xlink:href=\"#DejaVuSans-107\"/>\r\n      <use x=\"57.910156\" xlink:href=\"#DejaVuSans-32\"/>\r\n      <use x=\"89.697266\" xlink:href=\"#DejaVuSans-118\"/>\r\n      <use x=\"148.876953\" xlink:href=\"#DejaVuSans-97\"/>\r\n      <use x=\"210.15625\" xlink:href=\"#DejaVuSans-108\"/>\r\n      <use x=\"237.939453\" xlink:href=\"#DejaVuSans-117\"/>\r\n      <use x=\"301.318359\" xlink:href=\"#DejaVuSans-101\"/>\r\n     </g>\r\n    </g>\r\n   </g>\r\n   <g id=\"matplotlib.axis_2\">\r\n    <g id=\"ytick_1\">\r\n     <g id=\"line2d_10\">\r\n      <defs>\r\n       <path d=\"M 0 0 \r\nL -3.5 0 \r\n\" id=\"m0f39fc7dc1\" style=\"stroke:#ffffff;stroke-width:0.8;\"/>\r\n      </defs>\r\n      <g>\r\n       <use style=\"fill:#ffffff;stroke:#ffffff;stroke-width:0.8;\" x=\"50.14375\" xlink:href=\"#m0f39fc7dc1\" y=\"524.19021\"/>\r\n      </g>\r\n     </g>\r\n     <g id=\"text_11\">\r\n      <!-- 0.40 -->\r\n      <defs>\r\n       <path d=\"M 10.6875 12.40625 \r\nL 21 12.40625 \r\nL 21 0 \r\nL 10.6875 0 \r\nz\r\n\" id=\"DejaVuSans-46\"/>\r\n       <path d=\"M 37.796875 64.3125 \r\nL 12.890625 25.390625 \r\nL 37.796875 25.390625 \r\nz\r\nM 35.203125 72.90625 \r\nL 47.609375 72.90625 \r\nL 47.609375 25.390625 \r\nL 58.015625 25.390625 \r\nL 58.015625 17.1875 \r\nL 47.609375 17.1875 \r\nL 47.609375 0 \r\nL 37.796875 0 \r\nL 37.796875 17.1875 \r\nL 4.890625 17.1875 \r\nL 4.890625 26.703125 \r\nz\r\n\" id=\"DejaVuSans-52\"/>\r\n      </defs>\r\n      <g style=\"fill:#ffffff;\" transform=\"translate(20.878125 527.989429)scale(0.1 -0.1)\">\r\n       <use xlink:href=\"#DejaVuSans-48\"/>\r\n       <use x=\"63.623047\" xlink:href=\"#DejaVuSans-46\"/>\r\n       <use x=\"95.410156\" xlink:href=\"#DejaVuSans-52\"/>\r\n       <use x=\"159.033203\" xlink:href=\"#DejaVuSans-48\"/>\r\n      </g>\r\n     </g>\r\n    </g>\r\n    <g id=\"ytick_2\">\r\n     <g id=\"line2d_11\">\r\n      <g>\r\n       <use style=\"fill:#ffffff;stroke:#ffffff;stroke-width:0.8;\" x=\"50.14375\" xlink:href=\"#m0f39fc7dc1\" y=\"421.932587\"/>\r\n      </g>\r\n     </g>\r\n     <g id=\"text_12\">\r\n      <!-- 0.42 -->\r\n      <g style=\"fill:#ffffff;\" transform=\"translate(20.878125 425.731806)scale(0.1 -0.1)\">\r\n       <use xlink:href=\"#DejaVuSans-48\"/>\r\n       <use x=\"63.623047\" xlink:href=\"#DejaVuSans-46\"/>\r\n       <use x=\"95.410156\" xlink:href=\"#DejaVuSans-52\"/>\r\n       <use x=\"159.033203\" xlink:href=\"#DejaVuSans-50\"/>\r\n      </g>\r\n     </g>\r\n    </g>\r\n    <g id=\"ytick_3\">\r\n     <g id=\"line2d_12\">\r\n      <g>\r\n       <use style=\"fill:#ffffff;stroke:#ffffff;stroke-width:0.8;\" x=\"50.14375\" xlink:href=\"#m0f39fc7dc1\" y=\"319.674965\"/>\r\n      </g>\r\n     </g>\r\n     <g id=\"text_13\">\r\n      <!-- 0.44 -->\r\n      <g style=\"fill:#ffffff;\" transform=\"translate(20.878125 323.474184)scale(0.1 -0.1)\">\r\n       <use xlink:href=\"#DejaVuSans-48\"/>\r\n       <use x=\"63.623047\" xlink:href=\"#DejaVuSans-46\"/>\r\n       <use x=\"95.410156\" xlink:href=\"#DejaVuSans-52\"/>\r\n       <use x=\"159.033203\" xlink:href=\"#DejaVuSans-52\"/>\r\n      </g>\r\n     </g>\r\n    </g>\r\n    <g id=\"ytick_4\">\r\n     <g id=\"line2d_13\">\r\n      <g>\r\n       <use style=\"fill:#ffffff;stroke:#ffffff;stroke-width:0.8;\" x=\"50.14375\" xlink:href=\"#m0f39fc7dc1\" y=\"217.417343\"/>\r\n      </g>\r\n     </g>\r\n     <g id=\"text_14\">\r\n      <!-- 0.46 -->\r\n      <defs>\r\n       <path d=\"M 33.015625 40.375 \r\nQ 26.375 40.375 22.484375 35.828125 \r\nQ 18.609375 31.296875 18.609375 23.390625 \r\nQ 18.609375 15.53125 22.484375 10.953125 \r\nQ 26.375 6.390625 33.015625 6.390625 \r\nQ 39.65625 6.390625 43.53125 10.953125 \r\nQ 47.40625 15.53125 47.40625 23.390625 \r\nQ 47.40625 31.296875 43.53125 35.828125 \r\nQ 39.65625 40.375 33.015625 40.375 \r\nz\r\nM 52.59375 71.296875 \r\nL 52.59375 62.3125 \r\nQ 48.875 64.0625 45.09375 64.984375 \r\nQ 41.3125 65.921875 37.59375 65.921875 \r\nQ 27.828125 65.921875 22.671875 59.328125 \r\nQ 17.53125 52.734375 16.796875 39.40625 \r\nQ 19.671875 43.65625 24.015625 45.921875 \r\nQ 28.375 48.1875 33.59375 48.1875 \r\nQ 44.578125 48.1875 50.953125 41.515625 \r\nQ 57.328125 34.859375 57.328125 23.390625 \r\nQ 57.328125 12.15625 50.6875 5.359375 \r\nQ 44.046875 -1.421875 33.015625 -1.421875 \r\nQ 20.359375 -1.421875 13.671875 8.265625 \r\nQ 6.984375 17.96875 6.984375 36.375 \r\nQ 6.984375 53.65625 15.1875 63.9375 \r\nQ 23.390625 74.21875 37.203125 74.21875 \r\nQ 40.921875 74.21875 44.703125 73.484375 \r\nQ 48.484375 72.75 52.59375 71.296875 \r\nz\r\n\" id=\"DejaVuSans-54\"/>\r\n      </defs>\r\n      <g style=\"fill:#ffffff;\" transform=\"translate(20.878125 221.216561)scale(0.1 -0.1)\">\r\n       <use xlink:href=\"#DejaVuSans-48\"/>\r\n       <use x=\"63.623047\" xlink:href=\"#DejaVuSans-46\"/>\r\n       <use x=\"95.410156\" xlink:href=\"#DejaVuSans-52\"/>\r\n       <use x=\"159.033203\" xlink:href=\"#DejaVuSans-54\"/>\r\n      </g>\r\n     </g>\r\n    </g>\r\n    <g id=\"ytick_5\">\r\n     <g id=\"line2d_14\">\r\n      <g>\r\n       <use style=\"fill:#ffffff;stroke:#ffffff;stroke-width:0.8;\" x=\"50.14375\" xlink:href=\"#m0f39fc7dc1\" y=\"115.15972\"/>\r\n      </g>\r\n     </g>\r\n     <g id=\"text_15\">\r\n      <!-- 0.48 -->\r\n      <defs>\r\n       <path d=\"M 31.78125 34.625 \r\nQ 24.75 34.625 20.71875 30.859375 \r\nQ 16.703125 27.09375 16.703125 20.515625 \r\nQ 16.703125 13.921875 20.71875 10.15625 \r\nQ 24.75 6.390625 31.78125 6.390625 \r\nQ 38.8125 6.390625 42.859375 10.171875 \r\nQ 46.921875 13.96875 46.921875 20.515625 \r\nQ 46.921875 27.09375 42.890625 30.859375 \r\nQ 38.875 34.625 31.78125 34.625 \r\nz\r\nM 21.921875 38.8125 \r\nQ 15.578125 40.375 12.03125 44.71875 \r\nQ 8.5 49.078125 8.5 55.328125 \r\nQ 8.5 64.0625 14.71875 69.140625 \r\nQ 20.953125 74.21875 31.78125 74.21875 \r\nQ 42.671875 74.21875 48.875 69.140625 \r\nQ 55.078125 64.0625 55.078125 55.328125 \r\nQ 55.078125 49.078125 51.53125 44.71875 \r\nQ 48 40.375 41.703125 38.8125 \r\nQ 48.828125 37.15625 52.796875 32.3125 \r\nQ 56.78125 27.484375 56.78125 20.515625 \r\nQ 56.78125 9.90625 50.3125 4.234375 \r\nQ 43.84375 -1.421875 31.78125 -1.421875 \r\nQ 19.734375 -1.421875 13.25 4.234375 \r\nQ 6.78125 9.90625 6.78125 20.515625 \r\nQ 6.78125 27.484375 10.78125 32.3125 \r\nQ 14.796875 37.15625 21.921875 38.8125 \r\nz\r\nM 18.3125 54.390625 \r\nQ 18.3125 48.734375 21.84375 45.5625 \r\nQ 25.390625 42.390625 31.78125 42.390625 \r\nQ 38.140625 42.390625 41.71875 45.5625 \r\nQ 45.3125 48.734375 45.3125 54.390625 \r\nQ 45.3125 60.0625 41.71875 63.234375 \r\nQ 38.140625 66.40625 31.78125 66.40625 \r\nQ 25.390625 66.40625 21.84375 63.234375 \r\nQ 18.3125 60.0625 18.3125 54.390625 \r\nz\r\n\" id=\"DejaVuSans-56\"/>\r\n      </defs>\r\n      <g style=\"fill:#ffffff;\" transform=\"translate(20.878125 118.958939)scale(0.1 -0.1)\">\r\n       <use xlink:href=\"#DejaVuSans-48\"/>\r\n       <use x=\"63.623047\" xlink:href=\"#DejaVuSans-46\"/>\r\n       <use x=\"95.410156\" xlink:href=\"#DejaVuSans-52\"/>\r\n       <use x=\"159.033203\" xlink:href=\"#DejaVuSans-56\"/>\r\n      </g>\r\n     </g>\r\n    </g>\r\n    <g id=\"ytick_6\">\r\n     <g id=\"line2d_15\">\r\n      <g>\r\n       <use style=\"fill:#ffffff;stroke:#ffffff;stroke-width:0.8;\" x=\"50.14375\" xlink:href=\"#m0f39fc7dc1\" y=\"12.902098\"/>\r\n      </g>\r\n     </g>\r\n     <g id=\"text_16\">\r\n      <!-- 0.50 -->\r\n      <g style=\"fill:#ffffff;\" transform=\"translate(20.878125 16.701317)scale(0.1 -0.1)\">\r\n       <use xlink:href=\"#DejaVuSans-48\"/>\r\n       <use x=\"63.623047\" xlink:href=\"#DejaVuSans-46\"/>\r\n       <use x=\"95.410156\" xlink:href=\"#DejaVuSans-53\"/>\r\n       <use x=\"159.033203\" xlink:href=\"#DejaVuSans-48\"/>\r\n      </g>\r\n     </g>\r\n    </g>\r\n    <g id=\"text_17\">\r\n     <!-- Accuracy -->\r\n     <defs>\r\n      <path d=\"M 34.1875 63.1875 \r\nL 20.796875 26.90625 \r\nL 47.609375 26.90625 \r\nz\r\nM 28.609375 72.90625 \r\nL 39.796875 72.90625 \r\nL 67.578125 0 \r\nL 57.328125 0 \r\nL 50.6875 18.703125 \r\nL 17.828125 18.703125 \r\nL 11.1875 0 \r\nL 0.78125 0 \r\nz\r\n\" id=\"DejaVuSans-65\"/>\r\n      <path d=\"M 48.78125 52.59375 \r\nL 48.78125 44.1875 \r\nQ 44.96875 46.296875 41.140625 47.34375 \r\nQ 37.3125 48.390625 33.40625 48.390625 \r\nQ 24.65625 48.390625 19.8125 42.84375 \r\nQ 14.984375 37.3125 14.984375 27.296875 \r\nQ 14.984375 17.28125 19.8125 11.734375 \r\nQ 24.65625 6.203125 33.40625 6.203125 \r\nQ 37.3125 6.203125 41.140625 7.25 \r\nQ 44.96875 8.296875 48.78125 10.40625 \r\nL 48.78125 2.09375 \r\nQ 45.015625 0.34375 40.984375 -0.53125 \r\nQ 36.96875 -1.421875 32.421875 -1.421875 \r\nQ 20.0625 -1.421875 12.78125 6.34375 \r\nQ 5.515625 14.109375 5.515625 27.296875 \r\nQ 5.515625 40.671875 12.859375 48.328125 \r\nQ 20.21875 56 33.015625 56 \r\nQ 37.15625 56 41.109375 55.140625 \r\nQ 45.0625 54.296875 48.78125 52.59375 \r\nz\r\n\" id=\"DejaVuSans-99\"/>\r\n      <path d=\"M 41.109375 46.296875 \r\nQ 39.59375 47.171875 37.8125 47.578125 \r\nQ 36.03125 48 33.890625 48 \r\nQ 26.265625 48 22.1875 43.046875 \r\nQ 18.109375 38.09375 18.109375 28.8125 \r\nL 18.109375 0 \r\nL 9.078125 0 \r\nL 9.078125 54.6875 \r\nL 18.109375 54.6875 \r\nL 18.109375 46.1875 \r\nQ 20.953125 51.171875 25.484375 53.578125 \r\nQ 30.03125 56 36.53125 56 \r\nQ 37.453125 56 38.578125 55.875 \r\nQ 39.703125 55.765625 41.0625 55.515625 \r\nz\r\n\" id=\"DejaVuSans-114\"/>\r\n      <path d=\"M 32.171875 -5.078125 \r\nQ 28.375 -14.84375 24.75 -17.8125 \r\nQ 21.140625 -20.796875 15.09375 -20.796875 \r\nL 7.90625 -20.796875 \r\nL 7.90625 -13.28125 \r\nL 13.1875 -13.28125 \r\nQ 16.890625 -13.28125 18.9375 -11.515625 \r\nQ 21 -9.765625 23.484375 -3.21875 \r\nL 25.09375 0.875 \r\nL 2.984375 54.6875 \r\nL 12.5 54.6875 \r\nL 29.59375 11.921875 \r\nL 46.6875 54.6875 \r\nL 56.203125 54.6875 \r\nz\r\n\" id=\"DejaVuSans-121\"/>\r\n     </defs>\r\n     <g style=\"fill:#ffffff;\" transform=\"translate(14.798438 301.828125)rotate(-90)scale(0.1 -0.1)\">\r\n      <use xlink:href=\"#DejaVuSans-65\"/>\r\n      <use x=\"66.658203\" xlink:href=\"#DejaVuSans-99\"/>\r\n      <use x=\"121.638672\" xlink:href=\"#DejaVuSans-99\"/>\r\n      <use x=\"176.619141\" xlink:href=\"#DejaVuSans-117\"/>\r\n      <use x=\"239.998047\" xlink:href=\"#DejaVuSans-114\"/>\r\n      <use x=\"281.111328\" xlink:href=\"#DejaVuSans-97\"/>\r\n      <use x=\"342.390625\" xlink:href=\"#DejaVuSans-99\"/>\r\n      <use x=\"397.371094\" xlink:href=\"#DejaVuSans-121\"/>\r\n     </g>\r\n    </g>\r\n   </g>\r\n   <g id=\"line2d_16\">\r\n    <path clip-path=\"url(#paaddfa0ce5)\" d=\"M 85.652841 310.678322 \r\nL 89.239618 526.090909 \r\nL 92.826395 212.475524 \r\nL 96.413171 298.006993 \r\nL 99.999948 190.300699 \r\nL 103.586725 231.482517 \r\nL 107.173502 202.972028 \r\nL 110.760279 177.629371 \r\nL 114.347056 139.615385 \r\nL 117.933833 104.769231 \r\nL 121.52061 85.762238 \r\nL 128.694163 85.762238 \r\nL 132.28094 107.937063 \r\nL 135.867717 98.433566 \r\nL 139.454494 54.083916 \r\nL 143.041271 60.41958 \r\nL 146.628048 54.083916 \r\nL 150.214824 54.083916 \r\nL 153.801601 31.909091 \r\nL 157.388378 31.909091 \r\nL 160.975155 38.244755 \r\nL 164.561932 73.090909 \r\nL 168.148709 63.587413 \r\nL 171.735486 41.412587 \r\nL 175.322262 44.58042 \r\nL 178.909039 44.58042 \r\nL 182.495816 38.244755 \r\nL 186.082593 47.748252 \r\nL 189.66937 31.909091 \r\nL 193.256147 63.587413 \r\nL 196.842924 66.755245 \r\nL 200.4297 41.412587 \r\nL 204.016477 66.755245 \r\nL 211.190031 79.426573 \r\nL 214.776808 73.090909 \r\nL 218.363585 95.265734 \r\nL 221.950362 63.587413 \r\nL 225.537138 76.258741 \r\nL 229.123915 50.916084 \r\nL 232.710692 47.748252 \r\nL 236.297469 63.587413 \r\nL 239.884246 69.923077 \r\nL 243.471023 69.923077 \r\nL 250.644576 57.251748 \r\nL 254.231353 41.412587 \r\nL 257.81813 57.251748 \r\nL 264.991684 69.923077 \r\nL 268.578461 41.412587 \r\nL 272.165238 50.916084 \r\nL 275.752014 38.244755 \r\nL 279.338791 69.923077 \r\nL 282.925568 47.748252 \r\nL 286.512345 47.748252 \r\nL 290.099122 60.41958 \r\nL 293.685899 50.916084 \r\nL 297.272676 54.083916 \r\nL 304.446229 98.433566 \r\nL 308.033006 79.426573 \r\nL 311.619783 76.258741 \r\nL 315.20656 47.748252 \r\nL 318.793337 92.097902 \r\nL 322.380114 82.594406 \r\nL 325.96689 79.426573 \r\nL 329.553667 69.923077 \r\nL 333.140444 79.426573 \r\nL 340.313998 79.426573 \r\nL 343.900775 82.594406 \r\nL 347.487552 92.097902 \r\nL 351.074329 98.433566 \r\nL 354.661105 88.93007 \r\nL 358.247882 111.104895 \r\nL 361.834659 66.755245 \r\nL 365.421436 82.594406 \r\nL 369.008213 92.097902 \r\nL 376.181767 85.762238 \r\nL 379.768543 85.762238 \r\nL 383.35532 92.097902 \r\nL 386.942097 82.594406 \r\nL 390.528874 69.923077 \r\nL 394.115651 85.762238 \r\nL 397.702428 98.433566 \r\nL 401.289205 101.601399 \r\nL 404.875981 88.93007 \r\nL 408.462758 111.104895 \r\nL 412.049535 117.440559 \r\nL 415.636312 98.433566 \r\nL 419.223089 117.440559 \r\nL 422.809866 107.937063 \r\nL 426.396643 88.93007 \r\nL 429.983419 111.104895 \r\nL 433.570196 98.433566 \r\nL 440.74375 92.097902 \r\nL 444.330527 85.762238 \r\nL 447.917304 95.265734 \r\nL 451.504081 63.587413 \r\nL 455.090857 73.090909 \r\nL 458.677634 57.251748 \r\nL 462.264411 66.755245 \r\nL 465.851188 69.923077 \r\nL 469.437965 63.587413 \r\nL 473.024742 92.097902 \r\nL 476.611519 63.587413 \r\nL 480.198295 57.251748 \r\nL 483.785072 69.923077 \r\nL 487.371849 60.41958 \r\nL 490.958626 73.090909 \r\nL 494.545403 76.258741 \r\nL 498.13218 76.258741 \r\nL 501.718957 73.090909 \r\nL 505.305733 88.93007 \r\nL 508.89251 92.097902 \r\nL 512.479287 104.769231 \r\nL 516.066064 69.923077 \r\nL 519.652841 73.090909 \r\nL 523.239618 69.923077 \r\nL 526.826395 69.923077 \r\nL 530.413171 85.762238 \r\nL 533.999948 98.433566 \r\nL 537.586725 82.594406 \r\nL 541.173502 88.93007 \r\nL 544.760279 88.93007 \r\nL 548.347056 101.601399 \r\nL 551.933833 92.097902 \r\nL 555.52061 101.601399 \r\nL 559.107386 88.93007 \r\nL 562.694163 82.594406 \r\nL 569.867717 88.93007 \r\nL 573.454494 82.594406 \r\nL 577.041271 92.097902 \r\nL 580.628048 82.594406 \r\nL 591.388378 111.104895 \r\nL 594.975155 111.104895 \r\nL 598.561932 104.769231 \r\nL 602.148709 104.769231 \r\nL 605.735486 117.440559 \r\nL 609.322262 98.433566 \r\nL 612.909039 120.608392 \r\nL 616.495816 107.937063 \r\nL 620.082593 126.944056 \r\nL 623.66937 123.776224 \r\nL 627.256147 136.447552 \r\nL 630.842924 136.447552 \r\nL 634.4297 123.776224 \r\nL 638.016477 126.944056 \r\nL 645.190031 120.608392 \r\nL 648.776808 123.776224 \r\nL 652.363585 117.440559 \r\nL 655.950362 123.776224 \r\nL 659.537138 104.769231 \r\nL 663.123915 104.769231 \r\nL 666.710692 126.944056 \r\nL 670.297469 126.944056 \r\nL 673.884246 133.27972 \r\nL 677.471023 117.440559 \r\nL 684.644576 136.447552 \r\nL 688.231353 136.447552 \r\nL 691.81813 145.951049 \r\nL 695.404907 130.111888 \r\nL 698.991684 133.27972 \r\nL 702.578461 117.440559 \r\nL 706.165238 133.27972 \r\nL 709.752014 123.776224 \r\nL 713.338791 126.944056 \r\nL 716.925568 139.615385 \r\nL 720.512345 136.447552 \r\nL 724.099122 139.615385 \r\nL 727.685899 136.447552 \r\nL 731.272676 145.951049 \r\nL 734.859452 152.286713 \r\nL 738.446229 149.118881 \r\nL 742.033006 155.454545 \r\nL 745.619783 158.622378 \r\nL 749.20656 158.622378 \r\nL 752.793337 139.615385 \r\nL 756.380114 142.783217 \r\nL 759.96689 164.958042 \r\nL 763.553667 168.125874 \r\nL 767.140444 158.622378 \r\nL 770.727221 158.622378 \r\nL 774.313998 152.286713 \r\nL 777.900775 158.622378 \r\nL 781.487552 149.118881 \r\nL 785.074329 133.27972 \r\nL 788.661105 142.783217 \r\nL 792.247882 142.783217 \r\nL 795.834659 136.447552 \r\nL 795.834659 136.447552 \r\n\" style=\"fill:none;stroke:#8dd3c7;stroke-linecap:square;stroke-width:1.5;\"/>\r\n   </g>\r\n   <g id=\"patch_3\">\r\n    <path d=\"M 50.14375 550.8 \r\nL 50.14375 7.2 \r\n\" style=\"fill:none;stroke:#ffffff;stroke-linecap:square;stroke-linejoin:miter;stroke-width:0.8;\"/>\r\n   </g>\r\n   <g id=\"patch_4\">\r\n    <path d=\"M 831.34375 550.8 \r\nL 831.34375 7.2 \r\n\" style=\"fill:none;stroke:#ffffff;stroke-linecap:square;stroke-linejoin:miter;stroke-width:0.8;\"/>\r\n   </g>\r\n   <g id=\"patch_5\">\r\n    <path d=\"M 50.14375 550.8 \r\nL 831.34375 550.8 \r\n\" style=\"fill:none;stroke:#ffffff;stroke-linecap:square;stroke-linejoin:miter;stroke-width:0.8;\"/>\r\n   </g>\r\n   <g id=\"patch_6\">\r\n    <path d=\"M 50.14375 7.2 \r\nL 831.34375 7.2 \r\n\" style=\"fill:none;stroke:#ffffff;stroke-linecap:square;stroke-linejoin:miter;stroke-width:0.8;\"/>\r\n   </g>\r\n  </g>\r\n </g>\r\n <defs>\r\n  <clipPath id=\"paaddfa0ce5\">\r\n   <rect height=\"543.6\" width=\"781.2\" x=\"50.14375\" y=\"7.2\"/>\r\n  </clipPath>\r\n </defs>\r\n</svg>\r\n",
      "image/png": "[encoded data removed]"
     },
     "metadata": {}
    },
    {
     "output_type": "stream",
     "name": "stdout",
     "text": [
      "The maximum accuracy has reached in k-value:  20\n"
     ]
    }
   ],
   "source": [
    "from sklearn.neighbors import KNeighborsClassifier\n",
    "from sklearn.metrics import classification_report, roc_auc_score\n",
    "from matplotlib import pyplot as plt\n",
    "scores = []\n",
    "for x in range(1,200):\n",
    "    classifier = KNeighborsClassifier(n_neighbors = x)\n",
    "    classifier.fit(features_train, labels_train.ravel())\n",
    "    scores.append(classifier.score(features_val, labels_val))\n",
    "plt.figure(figsize=(14,10))\n",
    "plt.plot(range(1,200), scores)\n",
    "plt.ylabel('Accuracy')\n",
    "plt.xlabel('k value')\n",
    "plt.show()\n",
    "\n",
    "print(\"The maximum accuracy has reached in k-value: \", scores.index(max(scores))+1)"
   ]
  },
  {
   "cell_type": "code",
   "execution_count": 14,
   "metadata": {
    "tags": []
   },
   "outputs": [
    {
     "output_type": "stream",
     "name": "stdout",
     "text": [
      "              precision    recall  f1-score   support\n",
      "\n",
      "           A       0.39      0.40      0.39       391\n",
      "           B       0.40      0.34      0.37       369\n",
      "           C       0.51      0.54      0.52       380\n",
      "           D       0.63      0.67      0.65       474\n",
      "\n",
      "    accuracy                           0.50      1614\n",
      "   macro avg       0.48      0.49      0.48      1614\n",
      "weighted avg       0.49      0.50      0.49      1614\n",
      "\n",
      "The model has a (weighted) F1 score of 0.493 ,  120 % better than the baseline.\n"
     ]
    }
   ],
   "source": [
    "classifier = KNeighborsClassifier(n_neighbors=20, metric='euclidean')\n",
    "classifier.fit(features_train, labels_train)\n",
    "\n",
    "y_pred = classifier.predict(features_val)\n",
    "#Checking performance our model with classification report.\n",
    "print(classification_report(labels_val, y_pred))\n",
    "\n",
    "\n",
    "F1_model = f1_score(labels_val, y_pred, average='weighted')\n",
    "print(\"The model has a (weighted) F1 score of\", round(F1_model, 3),\", \", round(((F1_model/F1_baseline)-1) * 100), \"% better than the baseline.\")\n",
    "\n",
    "\n"
   ]
  },
  {
   "source": [
    "# Evaluation\n",
    "## Running on test set\n",
    "\n",
    "After we're satisfied with the model, we run it on test set we've separated earlier, and try to analyze whether the ground truth differs greatly from the predicted values."
   ],
   "cell_type": "markdown",
   "metadata": {}
  },
  {
   "cell_type": "code",
   "execution_count": 15,
   "metadata": {},
   "outputs": [
    {
     "output_type": "execute_result",
     "data": {
      "text/plain": [
       "     ground truth predicted  result\n",
       "0               B         A   False\n",
       "1               A         B   False\n",
       "2               A         A    True\n",
       "3               B         C   False\n",
       "4               A         A    True\n",
       "...           ...       ...     ...\n",
       "2622            B         B    True\n",
       "2623            A         A    True\n",
       "2624            C         A   False\n",
       "2625            C         A   False\n",
       "2626            A         C   False\n",
       "\n",
       "[2627 rows x 3 columns]"
      ],
      "text/html": "<div>\n<style scoped>\n    .dataframe tbody tr th:only-of-type {\n        vertical-align: middle;\n    }\n\n    .dataframe tbody tr th {\n        vertical-align: top;\n    }\n\n    .dataframe thead th {\n        text-align: right;\n    }\n</style>\n<table border=\"1\" class=\"dataframe\">\n  <thead>\n    <tr style=\"text-align: right;\">\n      <th></th>\n      <th>ground truth</th>\n      <th>predicted</th>\n      <th>result</th>\n    </tr>\n  </thead>\n  <tbody>\n    <tr>\n      <th>0</th>\n      <td>B</td>\n      <td>A</td>\n      <td>False</td>\n    </tr>\n    <tr>\n      <th>1</th>\n      <td>A</td>\n      <td>B</td>\n      <td>False</td>\n    </tr>\n    <tr>\n      <th>2</th>\n      <td>A</td>\n      <td>A</td>\n      <td>True</td>\n    </tr>\n    <tr>\n      <th>3</th>\n      <td>B</td>\n      <td>C</td>\n      <td>False</td>\n    </tr>\n    <tr>\n      <th>4</th>\n      <td>A</td>\n      <td>A</td>\n      <td>True</td>\n    </tr>\n    <tr>\n      <th>...</th>\n      <td>...</td>\n      <td>...</td>\n      <td>...</td>\n    </tr>\n    <tr>\n      <th>2622</th>\n      <td>B</td>\n      <td>B</td>\n      <td>True</td>\n    </tr>\n    <tr>\n      <th>2623</th>\n      <td>A</td>\n      <td>A</td>\n      <td>True</td>\n    </tr>\n    <tr>\n      <th>2624</th>\n      <td>C</td>\n      <td>A</td>\n      <td>False</td>\n    </tr>\n    <tr>\n      <th>2625</th>\n      <td>C</td>\n      <td>A</td>\n      <td>False</td>\n    </tr>\n    <tr>\n      <th>2626</th>\n      <td>A</td>\n      <td>C</td>\n      <td>False</td>\n    </tr>\n  </tbody>\n</table>\n<p>2627 rows × 3 columns</p>\n</div>"
     },
     "metadata": {},
     "execution_count": 15
    }
   ],
   "source": [
    "y_pred_test = classifier.predict(features_test)\r\n",
    "results_df = pd.concat([pd.Series(labels_test).rename('ground truth'), pd.Series(y_pred_test).rename('predicted')], axis=1)\r\n",
    "is_error = lambda row: True if row['predicted'] == row['ground truth'] else False\r\n",
    "\r\n",
    "results_df['result'] = results_df.apply(is_error, axis=1)\r\n",
    "results_df\r\n"
   ]
  },
  {
   "cell_type": "code",
   "execution_count": 16,
   "metadata": {},
   "outputs": [
    {
     "output_type": "execute_result",
     "data": {
      "text/plain": [
       "               counts\n",
       "unique_values        \n",
       "False            1880\n",
       "True              747"
      ],
      "text/html": "<div>\n<style scoped>\n    .dataframe tbody tr th:only-of-type {\n        vertical-align: middle;\n    }\n\n    .dataframe tbody tr th {\n        vertical-align: top;\n    }\n\n    .dataframe thead th {\n        text-align: right;\n    }\n</style>\n<table border=\"1\" class=\"dataframe\">\n  <thead>\n    <tr style=\"text-align: right;\">\n      <th></th>\n      <th>counts</th>\n    </tr>\n    <tr>\n      <th>unique_values</th>\n      <th></th>\n    </tr>\n  </thead>\n  <tbody>\n    <tr>\n      <th>False</th>\n      <td>1880</td>\n    </tr>\n    <tr>\n      <th>True</th>\n      <td>747</td>\n    </tr>\n  </tbody>\n</table>\n</div>"
     },
     "metadata": {},
     "execution_count": 16
    }
   ],
   "source": [
    "results_df['result'].value_counts().rename_axis('unique_values').to_frame('counts')"
   ]
  },
  {
   "source": [
    "## Conclusion\n",
    "\n",
    "In the end, the classifier we made ended up only being able to predict **747** true classes out of a total of 2627 examples. This is relatively low. Yet again, this is pretty much to be expected since we didn't implement hyperparameter tuning at all via `GridSearchCV`. We also stick to the `euclidean` distance as opposed to the default `minkowski` given by the class."
   ],
   "cell_type": "markdown",
   "metadata": {}
  }
 ]
}